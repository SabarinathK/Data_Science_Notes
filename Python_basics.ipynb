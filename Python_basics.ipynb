{
 "cells": [
  {
   "cell_type": "markdown",
   "id": "6731a86e",
   "metadata": {},
   "source": [
    "# Variable\n",
    "\n",
    "- to store data values\n",
    "\n"
   ]
  },
  {
   "cell_type": "code",
   "execution_count": 1,
   "id": "b8b4c7a5",
   "metadata": {},
   "outputs": [
    {
     "name": "stdout",
     "output_type": "stream",
     "text": [
      "1\n"
     ]
    }
   ],
   "source": [
    "a=1                                 # a is variable\n",
    "print(a)"
   ]
  },
  {
   "cell_type": "code",
   "execution_count": 2,
   "id": "7c7a9bb6",
   "metadata": {},
   "outputs": [],
   "source": [
    "b=[1,2,3,4,5,6]"
   ]
  },
  {
   "cell_type": "code",
   "execution_count": 3,
   "id": "8f6b5ce1",
   "metadata": {},
   "outputs": [
    {
     "name": "stdout",
     "output_type": "stream",
     "text": [
      "[1, 2, 3, 4, 5, 6]\n"
     ]
    }
   ],
   "source": [
    "print(b)"
   ]
  },
  {
   "cell_type": "code",
   "execution_count": 4,
   "id": "98dd51f1",
   "metadata": {},
   "outputs": [],
   "source": [
    "a=1\n",
    "B=2\n",
    "C=3\n",
    "\n",
    "\n",
    "# or\n",
    "\n",
    "\n",
    "a,b,c=1,2,3\n"
   ]
  },
  {
   "cell_type": "markdown",
   "id": "d5c2cf26",
   "metadata": {},
   "source": [
    "Variables\n",
    "\n",
    "- letters , words\n",
    "- caps sensitive\n",
    "\n",
    "- no spaces,\n",
    "- not allowed : 1st symbols,number"
   ]
  },
  {
   "cell_type": "code",
   "execution_count": 5,
   "id": "c743b220",
   "metadata": {},
   "outputs": [
    {
     "name": "stdout",
     "output_type": "stream",
     "text": [
      "3 2\n"
     ]
    }
   ],
   "source": [
    "a=2\n",
    "A=3\n",
    "\n",
    "print(A,a)"
   ]
  },
  {
   "cell_type": "code",
   "execution_count": 6,
   "id": "510f2511",
   "metadata": {},
   "outputs": [
    {
     "name": "stdout",
     "output_type": "stream",
     "text": [
      "3\n"
     ]
    }
   ],
   "source": [
    "a=2\n",
    "\n",
    "a=3         # variable value is updated\n",
    "print(a)"
   ]
  },
  {
   "cell_type": "code",
   "execution_count": 7,
   "id": "c8b755bf",
   "metadata": {},
   "outputs": [],
   "source": [
    "data_science=88\n",
    "DataSceince=88\n",
    "Datascience=888"
   ]
  },
  {
   "cell_type": "markdown",
   "id": "17077b27",
   "metadata": {},
   "source": [
    "## Cap Sensitive"
   ]
  },
  {
   "cell_type": "code",
   "execution_count": 8,
   "id": "2f5d8a5d",
   "metadata": {},
   "outputs": [],
   "source": [
    "Apple=24"
   ]
  },
  {
   "cell_type": "code",
   "execution_count": 9,
   "id": "ac5586c0",
   "metadata": {},
   "outputs": [
    {
     "name": "stdout",
     "output_type": "stream",
     "text": [
      "24\n"
     ]
    }
   ],
   "source": [
    "print(Apple)"
   ]
  },
  {
   "cell_type": "code",
   "execution_count": 10,
   "id": "1eb1d838",
   "metadata": {},
   "outputs": [
    {
     "ename": "NameError",
     "evalue": "name 'apple' is not defined",
     "output_type": "error",
     "traceback": [
      "\u001b[1;31m---------------------------------------------------------------------------\u001b[0m",
      "\u001b[1;31mNameError\u001b[0m                                 Traceback (most recent call last)",
      "Input \u001b[1;32mIn [10]\u001b[0m, in \u001b[0;36m<module>\u001b[1;34m\u001b[0m\n\u001b[1;32m----> 1\u001b[0m \u001b[38;5;28mprint\u001b[39m(\u001b[43mapple\u001b[49m)\n",
      "\u001b[1;31mNameError\u001b[0m: name 'apple' is not defined"
     ]
    }
   ],
   "source": [
    "print(apple)"
   ]
  },
  {
   "cell_type": "markdown",
   "id": "d237c540",
   "metadata": {},
   "source": [
    "# Data types"
   ]
  },
  {
   "cell_type": "markdown",
   "id": "0cd1cb14",
   "metadata": {},
   "source": [
    "# String (str)\n",
    "\n",
    "- letters\n",
    "-  use coat ' ' , \" \", \"\"\" \"\"\""
   ]
  },
  {
   "cell_type": "code",
   "execution_count": 11,
   "id": "09e8aba0",
   "metadata": {},
   "outputs": [
    {
     "name": "stdout",
     "output_type": "stream",
     "text": [
      "demo\n"
     ]
    },
    {
     "data": {
      "text/plain": [
       "str"
      ]
     },
     "execution_count": 11,
     "metadata": {},
     "output_type": "execute_result"
    }
   ],
   "source": [
    "a='demo'\n",
    "\n",
    "d='13.0'\n",
    "\n",
    "\n",
    "print(a)\n",
    "\n",
    "type(a)"
   ]
  },
  {
   "cell_type": "code",
   "execution_count": 12,
   "id": "6eb08687",
   "metadata": {},
   "outputs": [
    {
     "data": {
      "text/plain": [
       "str"
      ]
     },
     "execution_count": 12,
     "metadata": {},
     "output_type": "execute_result"
    }
   ],
   "source": [
    "type(d)"
   ]
  },
  {
   "cell_type": "markdown",
   "id": "efebfdea",
   "metadata": {},
   "source": [
    "# String Slicing\n",
    "## Indexing\n",
    "\n",
    "\n",
    "- starts from 0 \n",
    "- last -- extra 1"
   ]
  },
  {
   "cell_type": "code",
   "execution_count": 13,
   "id": "d8e1d799",
   "metadata": {
    "scrolled": true
   },
   "outputs": [
    {
     "name": "stdout",
     "output_type": "stream",
     "text": [
      "i am sabarinath\n"
     ]
    }
   ],
   "source": [
    "s='i am sabarinath'\n",
    "print(s)"
   ]
  },
  {
   "cell_type": "code",
   "execution_count": 14,
   "id": "1c7f8eae",
   "metadata": {},
   "outputs": [
    {
     "data": {
      "text/plain": [
       "15"
      ]
     },
     "execution_count": 14,
     "metadata": {},
     "output_type": "execute_result"
    }
   ],
   "source": [
    "len(s)   # include whitespaces"
   ]
  },
  {
   "cell_type": "code",
   "execution_count": 15,
   "id": "c2022ca6",
   "metadata": {},
   "outputs": [
    {
     "data": {
      "text/plain": [
       "'i'"
      ]
     },
     "execution_count": 15,
     "metadata": {},
     "output_type": "execute_result"
    }
   ],
   "source": [
    "s[0]"
   ]
  },
  {
   "cell_type": "code",
   "execution_count": 16,
   "id": "517f6109",
   "metadata": {},
   "outputs": [
    {
     "data": {
      "text/plain": [
       "'i am'"
      ]
     },
     "execution_count": 16,
     "metadata": {},
     "output_type": "execute_result"
    }
   ],
   "source": [
    "s[0:4]"
   ]
  },
  {
   "cell_type": "code",
   "execution_count": 17,
   "id": "70a34c54",
   "metadata": {},
   "outputs": [
    {
     "data": {
      "text/plain": [
       "'sabari'"
      ]
     },
     "execution_count": 17,
     "metadata": {},
     "output_type": "execute_result"
    }
   ],
   "source": [
    "s[5:11]"
   ]
  },
  {
   "cell_type": "code",
   "execution_count": 18,
   "id": "390a89a8",
   "metadata": {},
   "outputs": [
    {
     "name": "stdout",
     "output_type": "stream",
     "text": [
      "True\n"
     ]
    }
   ],
   "source": [
    "txt = \"The best things in life are free ! is it best\"\n",
    "print(\"free\" in txt)"
   ]
  },
  {
   "cell_type": "code",
   "execution_count": 19,
   "id": "1d9c0140",
   "metadata": {},
   "outputs": [
    {
     "data": {
      "text/plain": [
       "'THE BEST THINGS IN LIFE ARE FREE ! IS IT BEST'"
      ]
     },
     "execution_count": 19,
     "metadata": {},
     "output_type": "execute_result"
    }
   ],
   "source": [
    "txt.upper()"
   ]
  },
  {
   "cell_type": "code",
   "execution_count": 20,
   "id": "4c293a43",
   "metadata": {},
   "outputs": [
    {
     "data": {
      "text/plain": [
       "'the best things in life are free ! is it best'"
      ]
     },
     "execution_count": 20,
     "metadata": {},
     "output_type": "execute_result"
    }
   ],
   "source": [
    "txt.lower()"
   ]
  },
  {
   "cell_type": "code",
   "execution_count": 21,
   "id": "4b079cc1",
   "metadata": {},
   "outputs": [
    {
     "data": {
      "text/plain": [
       "'The first things in life are free ! is it first'"
      ]
     },
     "execution_count": 21,
     "metadata": {},
     "output_type": "execute_result"
    }
   ],
   "source": [
    "txt.replace('best','first')"
   ]
  },
  {
   "cell_type": "markdown",
   "id": "6b7a8cd1",
   "metadata": {},
   "source": [
    "# Format String\n",
    "\n",
    "-  order is important"
   ]
  },
  {
   "cell_type": "code",
   "execution_count": 22,
   "id": "e4e29839",
   "metadata": {},
   "outputs": [
    {
     "name": "stdout",
     "output_type": "stream",
     "text": [
      "My name is John, I am 36\n"
     ]
    }
   ],
   "source": [
    "age = str(36)\n",
    "txt = \"My name is John, I am \" + age\n",
    "print(txt)"
   ]
  },
  {
   "cell_type": "code",
   "execution_count": 23,
   "id": "58444ece",
   "metadata": {},
   "outputs": [],
   "source": [
    "age = 36\n",
    "name='alice'\n"
   ]
  },
  {
   "cell_type": "code",
   "execution_count": 24,
   "id": "4277be27",
   "metadata": {},
   "outputs": [
    {
     "data": {
      "text/plain": [
       "'My name is alice, and I am 36'"
      ]
     },
     "execution_count": 24,
     "metadata": {},
     "output_type": "execute_result"
    }
   ],
   "source": [
    "txt = \"My name is {}, and I am {}\".format(name,age)\n",
    "txt"
   ]
  },
  {
   "cell_type": "code",
   "execution_count": 25,
   "id": "c8a3cbec",
   "metadata": {},
   "outputs": [
    {
     "data": {
      "text/plain": [
       "'My name is alice, and I am 36'"
      ]
     },
     "execution_count": 25,
     "metadata": {},
     "output_type": "execute_result"
    }
   ],
   "source": [
    "txt = f\"My name is {name}, and I am {age}\"\n",
    "txt"
   ]
  },
  {
   "cell_type": "code",
   "execution_count": 26,
   "id": "cc2f5dac",
   "metadata": {},
   "outputs": [
    {
     "name": "stdout",
     "output_type": "stream",
     "text": [
      "your name :sabari\n",
      "your year :2012\n",
      "your age :24\n"
     ]
    }
   ],
   "source": [
    "name=input('your name :')                 # always return as stirng\n",
    "\n",
    "year=input('your year :')\n",
    "\n",
    "\n",
    "age=int(input('your age :'))              # using type casting"
   ]
  },
  {
   "cell_type": "code",
   "execution_count": 27,
   "id": "f347a2aa",
   "metadata": {},
   "outputs": [
    {
     "data": {
      "text/plain": [
       "str"
      ]
     },
     "execution_count": 27,
     "metadata": {},
     "output_type": "execute_result"
    }
   ],
   "source": [
    "type(year)"
   ]
  },
  {
   "cell_type": "code",
   "execution_count": 28,
   "id": "0e87802c",
   "metadata": {},
   "outputs": [
    {
     "ename": "TypeError",
     "evalue": "can only concatenate str (not \"int\") to str",
     "output_type": "error",
     "traceback": [
      "\u001b[1;31m---------------------------------------------------------------------------\u001b[0m",
      "\u001b[1;31mTypeError\u001b[0m                                 Traceback (most recent call last)",
      "Input \u001b[1;32mIn [28]\u001b[0m, in \u001b[0;36m<module>\u001b[1;34m\u001b[0m\n\u001b[1;32m----> 1\u001b[0m \u001b[43myear\u001b[49m\u001b[38;5;241;43m+\u001b[39;49m\u001b[38;5;241;43m2\u001b[39;49m\n",
      "\u001b[1;31mTypeError\u001b[0m: can only concatenate str (not \"int\") to str"
     ]
    }
   ],
   "source": [
    "year+2"
   ]
  },
  {
   "cell_type": "code",
   "execution_count": 29,
   "id": "6c7b81f5",
   "metadata": {},
   "outputs": [
    {
     "data": {
      "text/plain": [
       "'My name is sabari, and I am 24'"
      ]
     },
     "execution_count": 29,
     "metadata": {},
     "output_type": "execute_result"
    }
   ],
   "source": [
    "txt = f\"My name is {name}, and I am {age}\"\n",
    "txt"
   ]
  },
  {
   "cell_type": "code",
   "execution_count": 30,
   "id": "28b28736",
   "metadata": {},
   "outputs": [
    {
     "data": {
      "text/plain": [
       "27"
      ]
     },
     "execution_count": 30,
     "metadata": {},
     "output_type": "execute_result"
    }
   ],
   "source": [
    "age+3"
   ]
  },
  {
   "cell_type": "code",
   "execution_count": 31,
   "id": "384bb885",
   "metadata": {},
   "outputs": [
    {
     "name": "stdout",
     "output_type": "stream",
     "text": [
      "Hello World!\n",
      " nice\n"
     ]
    }
   ],
   "source": [
    "txt = \"Hello World!\\n nice\"\n",
    "print(txt) "
   ]
  },
  {
   "cell_type": "markdown",
   "id": "683bdd99",
   "metadata": {},
   "source": [
    "# Concatenation\n",
    "\n",
    "- join"
   ]
  },
  {
   "cell_type": "code",
   "execution_count": 32,
   "id": "b0c6b839",
   "metadata": {},
   "outputs": [],
   "source": [
    "a= 'dog'\n",
    "b=\"food\""
   ]
  },
  {
   "cell_type": "code",
   "execution_count": 33,
   "id": "a2616638",
   "metadata": {},
   "outputs": [
    {
     "data": {
      "text/plain": [
       "'dog food'"
      ]
     },
     "execution_count": 33,
     "metadata": {},
     "output_type": "execute_result"
    }
   ],
   "source": [
    "a+' '+b"
   ]
  },
  {
   "cell_type": "markdown",
   "id": "fe80c954",
   "metadata": {},
   "source": [
    "# Coats in strings\n"
   ]
  },
  {
   "cell_type": "code",
   "execution_count": 34,
   "id": "496e260f",
   "metadata": {},
   "outputs": [],
   "source": [
    "s= 'sabari' \n",
    "a=\"sabarinath\"\n",
    "b=\"K sabarianth\""
   ]
  },
  {
   "cell_type": "code",
   "execution_count": 35,
   "id": "2f974bda",
   "metadata": {},
   "outputs": [
    {
     "name": "stdout",
     "output_type": "stream",
     "text": [
      "sabari sabarinath K sabarianth\n"
     ]
    }
   ],
   "source": [
    "print(s,a,b)"
   ]
  },
  {
   "cell_type": "code",
   "execution_count": 36,
   "id": "b2c65933",
   "metadata": {},
   "outputs": [],
   "source": [
    "s=\"sabari had pen, pencil\""
   ]
  },
  {
   "cell_type": "markdown",
   "id": "a27f958c",
   "metadata": {},
   "source": [
    "## Numbers\n",
    "\n",
    "- whole number  ---  integer (int)\n",
    "- decimal value  ---- float \n",
    "- complex"
   ]
  },
  {
   "cell_type": "code",
   "execution_count": 37,
   "id": "c818b37f",
   "metadata": {},
   "outputs": [
    {
     "name": "stdout",
     "output_type": "stream",
     "text": [
      "1 3.9\n",
      "<class 'int'>\n",
      "<class 'float'>\n"
     ]
    }
   ],
   "source": [
    "a=1\n",
    "b=3.9\n",
    "\n",
    "print(a,b)\n",
    "print(type(a))\n",
    "print(type(b))"
   ]
  },
  {
   "cell_type": "code",
   "execution_count": 38,
   "id": "d04316fb",
   "metadata": {},
   "outputs": [
    {
     "data": {
      "text/plain": [
       "complex"
      ]
     },
     "execution_count": 38,
     "metadata": {},
     "output_type": "execute_result"
    }
   ],
   "source": [
    "x = 3+5j           #complex number\n",
    "type(x)"
   ]
  },
  {
   "cell_type": "code",
   "execution_count": 39,
   "id": "86a7cb2c",
   "metadata": {},
   "outputs": [
    {
     "data": {
      "text/plain": [
       "float"
      ]
     },
     "execution_count": 39,
     "metadata": {},
     "output_type": "execute_result"
    }
   ],
   "source": [
    "d=2.0\n",
    "type(d)"
   ]
  },
  {
   "cell_type": "code",
   "execution_count": 40,
   "id": "f9b9f8d1",
   "metadata": {},
   "outputs": [
    {
     "data": {
      "text/plain": [
       "int"
      ]
     },
     "execution_count": 40,
     "metadata": {},
     "output_type": "execute_result"
    }
   ],
   "source": [
    "c=2\n",
    "type(c)"
   ]
  },
  {
   "cell_type": "markdown",
   "id": "ba11f33f",
   "metadata": {},
   "source": [
    "# Type Conversion\n",
    "\n",
    "\n",
    "## you can\n",
    "\n",
    "- int,float -- convert--- str\n",
    "--int---float\n",
    "--float--- int\n",
    "\n",
    "\n",
    "## not\n",
    "\n",
    "- strg --not convert--int,float"
   ]
  },
  {
   "cell_type": "markdown",
   "id": "0e46b647",
   "metadata": {},
   "source": [
    "## Int to float"
   ]
  },
  {
   "cell_type": "code",
   "execution_count": 41,
   "id": "959bb4cd",
   "metadata": {},
   "outputs": [
    {
     "name": "stdout",
     "output_type": "stream",
     "text": [
      "12\n"
     ]
    }
   ],
   "source": [
    "a=12\n",
    "print(a)"
   ]
  },
  {
   "cell_type": "code",
   "execution_count": 42,
   "id": "b4c4542e",
   "metadata": {},
   "outputs": [],
   "source": [
    "a=float(12)"
   ]
  },
  {
   "cell_type": "code",
   "execution_count": 43,
   "id": "471393e7",
   "metadata": {},
   "outputs": [
    {
     "data": {
      "text/plain": [
       "float"
      ]
     },
     "execution_count": 43,
     "metadata": {},
     "output_type": "execute_result"
    }
   ],
   "source": [
    "type(a)"
   ]
  },
  {
   "cell_type": "code",
   "execution_count": 44,
   "id": "b8e5cd8a",
   "metadata": {},
   "outputs": [
    {
     "name": "stdout",
     "output_type": "stream",
     "text": [
      "12.0\n"
     ]
    }
   ],
   "source": [
    "print(a)"
   ]
  },
  {
   "cell_type": "markdown",
   "id": "e5f49f45",
   "metadata": {},
   "source": [
    "## float to int"
   ]
  },
  {
   "cell_type": "code",
   "execution_count": 45,
   "id": "18a6bbcf",
   "metadata": {},
   "outputs": [],
   "source": [
    "a=12.3\n",
    "\n",
    "\n",
    "a=int(12.699999)              # int conversion cannot roundoff"
   ]
  },
  {
   "cell_type": "code",
   "execution_count": 46,
   "id": "d93a4219",
   "metadata": {},
   "outputs": [
    {
     "name": "stdout",
     "output_type": "stream",
     "text": [
      "12\n"
     ]
    }
   ],
   "source": [
    "print(a)"
   ]
  },
  {
   "cell_type": "markdown",
   "id": "a3d343f0",
   "metadata": {},
   "source": [
    "## float ,int to Str"
   ]
  },
  {
   "cell_type": "code",
   "execution_count": 47,
   "id": "9affd754",
   "metadata": {},
   "outputs": [
    {
     "name": "stdout",
     "output_type": "stream",
     "text": [
      "13\n"
     ]
    }
   ],
   "source": [
    "a=13\n",
    "b=14.5\n",
    "\n",
    "a=str('13')\n",
    "print(a)"
   ]
  },
  {
   "cell_type": "code",
   "execution_count": 48,
   "id": "d9b4d0cd",
   "metadata": {},
   "outputs": [
    {
     "data": {
      "text/plain": [
       "str"
      ]
     },
     "execution_count": 48,
     "metadata": {},
     "output_type": "execute_result"
    }
   ],
   "source": [
    "type(a)"
   ]
  },
  {
   "cell_type": "code",
   "execution_count": 49,
   "id": "cc36ca1f",
   "metadata": {},
   "outputs": [
    {
     "name": "stdout",
     "output_type": "stream",
     "text": [
      "13\n"
     ]
    }
   ],
   "source": [
    "print(a)"
   ]
  },
  {
   "cell_type": "code",
   "execution_count": 50,
   "id": "a1b218ea",
   "metadata": {},
   "outputs": [],
   "source": [
    "password=str(12345678)\n",
    "name='deap'"
   ]
  },
  {
   "cell_type": "code",
   "execution_count": 51,
   "id": "77abae3c",
   "metadata": {},
   "outputs": [],
   "source": [
    "deap=name+password"
   ]
  },
  {
   "cell_type": "code",
   "execution_count": 52,
   "id": "ed54bd5c",
   "metadata": {},
   "outputs": [
    {
     "data": {
      "text/plain": [
       "'deap12345678'"
      ]
     },
     "execution_count": 52,
     "metadata": {},
     "output_type": "execute_result"
    }
   ],
   "source": [
    "deap"
   ]
  },
  {
   "cell_type": "markdown",
   "id": "acbeeba6",
   "metadata": {},
   "source": [
    "# Booleans"
   ]
  },
  {
   "cell_type": "code",
   "execution_count": 53,
   "id": "195ebff3",
   "metadata": {},
   "outputs": [
    {
     "data": {
      "text/plain": [
       "True"
      ]
     },
     "execution_count": 53,
     "metadata": {},
     "output_type": "execute_result"
    }
   ],
   "source": [
    "1==1"
   ]
  },
  {
   "cell_type": "code",
   "execution_count": 54,
   "id": "64e0051a",
   "metadata": {},
   "outputs": [
    {
     "data": {
      "text/plain": [
       "False"
      ]
     },
     "execution_count": 54,
     "metadata": {},
     "output_type": "execute_result"
    }
   ],
   "source": [
    "1!=1"
   ]
  },
  {
   "cell_type": "code",
   "execution_count": 55,
   "id": "4c24290f",
   "metadata": {},
   "outputs": [
    {
     "name": "stdout",
     "output_type": "stream",
     "text": [
      "False\n"
     ]
    }
   ],
   "source": [
    "txt = \"The best things in life are free ! is it best\"\n",
    "print(\"coin\" in txt)"
   ]
  },
  {
   "cell_type": "markdown",
   "id": "4c84a716",
   "metadata": {},
   "source": [
    "There are four collection data types in the Python programming language:\n",
    "\n",
    "- List is a collection which is ordered and changeable. Allows duplicate members.     []\n",
    "- Tuple is a collection which is ordered and unchangeable. Allows duplicate members.   ()\n",
    "- Set is a collection which is unordered, unchangeable*, and unindexed. No duplicate members. {}\n",
    "- Dictionary is a collection which is ordered** and changeable. No duplicate members.{}"
   ]
  },
  {
   "cell_type": "code",
   "execution_count": 56,
   "id": "f9226ee3",
   "metadata": {},
   "outputs": [
    {
     "data": {
      "text/plain": [
       "list"
      ]
     },
     "execution_count": 56,
     "metadata": {},
     "output_type": "execute_result"
    }
   ],
   "source": [
    "type([])"
   ]
  },
  {
   "cell_type": "code",
   "execution_count": 57,
   "id": "78385582",
   "metadata": {},
   "outputs": [
    {
     "data": {
      "text/plain": [
       "tuple"
      ]
     },
     "execution_count": 57,
     "metadata": {},
     "output_type": "execute_result"
    }
   ],
   "source": [
    "type(())"
   ]
  },
  {
   "cell_type": "code",
   "execution_count": 58,
   "id": "107d4efd",
   "metadata": {},
   "outputs": [
    {
     "data": {
      "text/plain": [
       "dict"
      ]
     },
     "execution_count": 58,
     "metadata": {},
     "output_type": "execute_result"
    }
   ],
   "source": [
    "type({})"
   ]
  },
  {
   "cell_type": "markdown",
   "id": "5c2cbc31",
   "metadata": {},
   "source": [
    "# List\n",
    " \n",
    " - [ ]"
   ]
  },
  {
   "cell_type": "code",
   "execution_count": 59,
   "id": "23aaebc7",
   "metadata": {},
   "outputs": [],
   "source": [
    "shop=[\"apple\", \"banana\", \"cherry\"] "
   ]
  },
  {
   "cell_type": "code",
   "execution_count": 60,
   "id": "6a028356",
   "metadata": {},
   "outputs": [
    {
     "data": {
      "text/plain": [
       "list"
      ]
     },
     "execution_count": 60,
     "metadata": {},
     "output_type": "execute_result"
    }
   ],
   "source": [
    "type(shop)"
   ]
  },
  {
   "cell_type": "code",
   "execution_count": 61,
   "id": "9f88d7aa",
   "metadata": {},
   "outputs": [
    {
     "data": {
      "text/plain": [
       "list"
      ]
     },
     "execution_count": 61,
     "metadata": {},
     "output_type": "execute_result"
    }
   ],
   "source": [
    "type([])"
   ]
  },
  {
   "cell_type": "code",
   "execution_count": 62,
   "id": "1d8e754a",
   "metadata": {},
   "outputs": [
    {
     "data": {
      "text/plain": [
       "['apple', 'banana']"
      ]
     },
     "execution_count": 62,
     "metadata": {},
     "output_type": "execute_result"
    }
   ],
   "source": [
    "# indexing in list is same as string\n",
    "shop[0:2]"
   ]
  },
  {
   "cell_type": "code",
   "execution_count": 63,
   "id": "c3ea85f6",
   "metadata": {},
   "outputs": [
    {
     "data": {
      "text/plain": [
       "['cherry']"
      ]
     },
     "execution_count": 63,
     "metadata": {},
     "output_type": "execute_result"
    }
   ],
   "source": [
    "shop[-1:]        #negative index(from last)"
   ]
  },
  {
   "cell_type": "code",
   "execution_count": 64,
   "id": "8b363657",
   "metadata": {},
   "outputs": [
    {
     "data": {
      "text/plain": [
       "['banana', 'cherry']"
      ]
     },
     "execution_count": 64,
     "metadata": {},
     "output_type": "execute_result"
    }
   ],
   "source": [
    "shop[1:3]"
   ]
  },
  {
   "cell_type": "code",
   "execution_count": 65,
   "id": "27fb2923",
   "metadata": {},
   "outputs": [
    {
     "data": {
      "text/plain": [
       "['apple', 'banana', 'cherry']"
      ]
     },
     "execution_count": 65,
     "metadata": {},
     "output_type": "execute_result"
    }
   ],
   "source": [
    "shop[-3:]"
   ]
  },
  {
   "cell_type": "code",
   "execution_count": 66,
   "id": "ec718ec3",
   "metadata": {},
   "outputs": [],
   "source": [
    "shop2=[1,2,3]"
   ]
  },
  {
   "cell_type": "code",
   "execution_count": 67,
   "id": "7cd7ef4f",
   "metadata": {},
   "outputs": [],
   "source": [
    "# concat in list\n",
    "\n",
    "shops=shop+shop2"
   ]
  },
  {
   "cell_type": "code",
   "execution_count": 68,
   "id": "f75d1b6c",
   "metadata": {},
   "outputs": [
    {
     "data": {
      "text/plain": [
       "['apple', 'banana', 'cherry', 1, 2, 3]"
      ]
     },
     "execution_count": 68,
     "metadata": {},
     "output_type": "execute_result"
    }
   ],
   "source": [
    "shops"
   ]
  },
  {
   "cell_type": "code",
   "execution_count": 69,
   "id": "1e130a18",
   "metadata": {},
   "outputs": [
    {
     "data": {
      "text/plain": [
       "3"
      ]
     },
     "execution_count": 69,
     "metadata": {},
     "output_type": "execute_result"
    }
   ],
   "source": [
    "len(shop)"
   ]
  },
  {
   "cell_type": "code",
   "execution_count": 70,
   "id": "fa5b20be",
   "metadata": {},
   "outputs": [],
   "source": [
    "#change item in list\n",
    "\n",
    "shop[0]='mango'    #apple to mango"
   ]
  },
  {
   "cell_type": "code",
   "execution_count": 71,
   "id": "cb2d0704",
   "metadata": {},
   "outputs": [],
   "source": [
    "# Duplicates\n",
    "\n",
    "shop2=shop+['apple','pineapple','apple',1,1.2,True]   "
   ]
  },
  {
   "cell_type": "code",
   "execution_count": 72,
   "id": "e00a1114",
   "metadata": {},
   "outputs": [
    {
     "data": {
      "text/plain": [
       "['mango', 'banana', 'cherry', 'apple', 'pineapple', 'apple', 1, 1.2, True]"
      ]
     },
     "execution_count": 72,
     "metadata": {},
     "output_type": "execute_result"
    }
   ],
   "source": [
    "shop2"
   ]
  },
  {
   "cell_type": "code",
   "execution_count": 73,
   "id": "b4b1333a",
   "metadata": {},
   "outputs": [],
   "source": [
    "shop2[0:3]=[1,2,3]"
   ]
  },
  {
   "cell_type": "code",
   "execution_count": 74,
   "id": "289b68b1",
   "metadata": {},
   "outputs": [
    {
     "data": {
      "text/plain": [
       "[1, 2, 3, 'apple', 'pineapple', 'apple', 1, 1.2, True]"
      ]
     },
     "execution_count": 74,
     "metadata": {},
     "output_type": "execute_result"
    }
   ],
   "source": [
    "shop2"
   ]
  },
  {
   "cell_type": "markdown",
   "id": "2a7deb6b",
   "metadata": {},
   "source": [
    "# Add"
   ]
  },
  {
   "cell_type": "code",
   "execution_count": 75,
   "id": "e97aa687",
   "metadata": {},
   "outputs": [
    {
     "name": "stdout",
     "output_type": "stream",
     "text": [
      "['apple', 'banana', 'watermelon', 'cherry']\n"
     ]
    }
   ],
   "source": [
    "thislist = [\"apple\", \"banana\", \"cherry\"]\n",
    "thislist.insert(2, \"watermelon\")            # insert (indexing)\n",
    "print(thislist)"
   ]
  },
  {
   "cell_type": "code",
   "execution_count": 76,
   "id": "9b2c9914",
   "metadata": {},
   "outputs": [
    {
     "name": "stdout",
     "output_type": "stream",
     "text": [
      "['apple', 'banana', 'cherry', 'orange']\n"
     ]
    }
   ],
   "source": [
    "thislist = [\"apple\", \"banana\", \"cherry\"]\n",
    "thislist.append(\"orange\")              #append (add in end)\n",
    "print(thislist)"
   ]
  },
  {
   "cell_type": "code",
   "execution_count": 77,
   "id": "c61530d9",
   "metadata": {},
   "outputs": [
    {
     "name": "stdout",
     "output_type": "stream",
     "text": [
      "['apple', 'banana', 'cherry', 'mango', 'pineapple', 'papaya']\n"
     ]
    }
   ],
   "source": [
    "thislist = [\"apple\", \"banana\", \"cherry\"]\n",
    "tropical = [\"mango\", \"pineapple\", \"papaya\"]\n",
    "thislist.extend(tropical)\n",
    "print(thislist)"
   ]
  },
  {
   "cell_type": "markdown",
   "id": "188ec268",
   "metadata": {},
   "source": [
    "# Remove"
   ]
  },
  {
   "cell_type": "code",
   "execution_count": 78,
   "id": "c8ba4e9c",
   "metadata": {},
   "outputs": [
    {
     "name": "stdout",
     "output_type": "stream",
     "text": [
      "['apple', 'cherry']\n"
     ]
    }
   ],
   "source": [
    "thislist = [\"apple\", \"banana\", \"cherry\"]\n",
    "thislist.pop(1)                      # remove using indexing\n",
    "print(thislist)"
   ]
  },
  {
   "cell_type": "code",
   "execution_count": 79,
   "id": "12f35af1",
   "metadata": {},
   "outputs": [
    {
     "name": "stdout",
     "output_type": "stream",
     "text": [
      "['banana', 'cherry']\n"
     ]
    }
   ],
   "source": [
    "thislist = [\"apple\", \"banana\", \"cherry\"]\n",
    "del thislist[0]\n",
    "print(thislist)"
   ]
  },
  {
   "cell_type": "code",
   "execution_count": 80,
   "id": "fead474f",
   "metadata": {},
   "outputs": [
    {
     "name": "stdout",
     "output_type": "stream",
     "text": [
      "[]\n"
     ]
    }
   ],
   "source": [
    "thislist = [\"apple\", \"banana\", \"cherry\"]\n",
    "thislist.clear()\n",
    "print(thislist)"
   ]
  },
  {
   "cell_type": "code",
   "execution_count": 81,
   "id": "d669bdb9",
   "metadata": {},
   "outputs": [
    {
     "name": "stdout",
     "output_type": "stream",
     "text": [
      "['pineapple', 'orange', 'mango', 'kiwi', 'banana']\n"
     ]
    }
   ],
   "source": [
    "# ordering list items\n",
    "thislist = [\"orange\", \"mango\", \"kiwi\", \"pineapple\", \"banana\"]\n",
    "thislist.sort(reverse=True)\n",
    "print(thislist)"
   ]
  },
  {
   "cell_type": "markdown",
   "id": "2fc6d810",
   "metadata": {},
   "source": [
    "# copy"
   ]
  },
  {
   "cell_type": "code",
   "execution_count": 82,
   "id": "f6439405",
   "metadata": {},
   "outputs": [
    {
     "name": "stdout",
     "output_type": "stream",
     "text": [
      "['apple', 'banana', 'cherry']\n"
     ]
    }
   ],
   "source": [
    "a = [\"apple\", \"banana\", \"cherry\"]\n",
    "print(a)"
   ]
  },
  {
   "cell_type": "code",
   "execution_count": 83,
   "id": "9c06c3a1",
   "metadata": {},
   "outputs": [],
   "source": [
    "b=a                        # 'b' changes affect 'a' also so,use copy() function"
   ]
  },
  {
   "cell_type": "code",
   "execution_count": 84,
   "id": "395c85b3",
   "metadata": {},
   "outputs": [
    {
     "name": "stdout",
     "output_type": "stream",
     "text": [
      "['apple', 'banana', 'cherry']\n"
     ]
    }
   ],
   "source": [
    "print(b)"
   ]
  },
  {
   "cell_type": "code",
   "execution_count": 85,
   "id": "1ddea4f2",
   "metadata": {},
   "outputs": [
    {
     "name": "stdout",
     "output_type": "stream",
     "text": [
      "['banana', 'cherry']\n"
     ]
    }
   ],
   "source": [
    "b.pop(0)\n",
    "print(b)         "
   ]
  },
  {
   "cell_type": "code",
   "execution_count": 86,
   "id": "aed90111",
   "metadata": {},
   "outputs": [
    {
     "data": {
      "text/plain": [
       "['banana', 'cherry']"
      ]
     },
     "execution_count": 86,
     "metadata": {},
     "output_type": "execute_result"
    }
   ],
   "source": [
    "a"
   ]
  },
  {
   "cell_type": "code",
   "execution_count": 87,
   "id": "6fce3e12",
   "metadata": {},
   "outputs": [
    {
     "name": "stdout",
     "output_type": "stream",
     "text": [
      "['apple', 'banana', 'cherry']\n"
     ]
    }
   ],
   "source": [
    "# using copy function\n",
    "\n",
    "a = [\"apple\", \"banana\", \"cherry\"]\n",
    "print(a)"
   ]
  },
  {
   "cell_type": "code",
   "execution_count": 88,
   "id": "cd1d88bd",
   "metadata": {},
   "outputs": [],
   "source": [
    "b=a.copy()                   # it won't affect 'a' variable"
   ]
  },
  {
   "cell_type": "code",
   "execution_count": 89,
   "id": "72f3a309",
   "metadata": {},
   "outputs": [
    {
     "name": "stdout",
     "output_type": "stream",
     "text": [
      "['banana', 'cherry']\n"
     ]
    }
   ],
   "source": [
    "b.pop(0)\n",
    "print(b)  "
   ]
  },
  {
   "cell_type": "code",
   "execution_count": 90,
   "id": "705bf671",
   "metadata": {},
   "outputs": [
    {
     "data": {
      "text/plain": [
       "['apple', 'banana', 'cherry']"
      ]
     },
     "execution_count": 90,
     "metadata": {},
     "output_type": "execute_result"
    }
   ],
   "source": [
    "a"
   ]
  },
  {
   "cell_type": "code",
   "execution_count": 91,
   "id": "74ceb5cc",
   "metadata": {},
   "outputs": [],
   "source": [
    "# nested list\n",
    "\n"
   ]
  },
  {
   "cell_type": "code",
   "execution_count": 92,
   "id": "230176bf",
   "metadata": {},
   "outputs": [
    {
     "name": "stdout",
     "output_type": "stream",
     "text": [
      "['apple', 'banana', 'cherry', ['good', 'bad']]\n"
     ]
    }
   ],
   "source": [
    "a = [\"apple\", \"banana\", \"cherry\",['good','bad']]\n",
    "print(a)"
   ]
  },
  {
   "cell_type": "markdown",
   "id": "ae3129ba",
   "metadata": {},
   "source": [
    "# Tuple"
   ]
  },
  {
   "cell_type": "code",
   "execution_count": 93,
   "id": "ef69fd1e",
   "metadata": {},
   "outputs": [],
   "source": [
    "a=(1,2,3,3)             #duplicates allowed"
   ]
  },
  {
   "cell_type": "code",
   "execution_count": 94,
   "id": "162f41a5",
   "metadata": {},
   "outputs": [
    {
     "data": {
      "text/plain": [
       "tuple"
      ]
     },
     "execution_count": 94,
     "metadata": {},
     "output_type": "execute_result"
    }
   ],
   "source": [
    "type(a)"
   ]
  },
  {
   "cell_type": "code",
   "execution_count": 95,
   "id": "89b33e98",
   "metadata": {},
   "outputs": [
    {
     "ename": "TypeError",
     "evalue": "'tuple' object does not support item assignment",
     "output_type": "error",
     "traceback": [
      "\u001b[1;31m---------------------------------------------------------------------------\u001b[0m",
      "\u001b[1;31mTypeError\u001b[0m                                 Traceback (most recent call last)",
      "Input \u001b[1;32mIn [95]\u001b[0m, in \u001b[0;36m<module>\u001b[1;34m\u001b[0m\n\u001b[0;32m      1\u001b[0m \u001b[38;5;66;03m#unchangable                     # no update,delete,remove\u001b[39;00m\n\u001b[1;32m----> 3\u001b[0m a[\u001b[38;5;241m0\u001b[39m]\u001b[38;5;241m=\u001b[39m\u001b[38;5;241m4\u001b[39m\n",
      "\u001b[1;31mTypeError\u001b[0m: 'tuple' object does not support item assignment"
     ]
    }
   ],
   "source": [
    "#unchangable                     # no update,delete,remove\n",
    "\n",
    "a[0]=4\n"
   ]
  },
  {
   "cell_type": "code",
   "execution_count": 96,
   "id": "8b23af47",
   "metadata": {},
   "outputs": [
    {
     "data": {
      "text/plain": [
       "1"
      ]
     },
     "execution_count": 96,
     "metadata": {},
     "output_type": "execute_result"
    }
   ],
   "source": [
    "# indexingis same as list\n",
    "a[0]"
   ]
  },
  {
   "cell_type": "code",
   "execution_count": 97,
   "id": "bfb49407",
   "metadata": {},
   "outputs": [
    {
     "name": "stdout",
     "output_type": "stream",
     "text": [
      "[1, 2, 3, 3]\n"
     ]
    },
    {
     "data": {
      "text/plain": [
       "list"
      ]
     },
     "execution_count": 97,
     "metadata": {},
     "output_type": "execute_result"
    }
   ],
   "source": [
    "#updating tuples using type cast as list\n",
    "a=list(a)              # tuple is now coverted to list.....now all list actions can applied\n",
    "print(a)\n",
    "type(a) \n"
   ]
  },
  {
   "cell_type": "code",
   "execution_count": 98,
   "id": "9fa8c136",
   "metadata": {},
   "outputs": [
    {
     "data": {
      "text/plain": [
       "[6, 2, 3, 3]"
      ]
     },
     "execution_count": 98,
     "metadata": {},
     "output_type": "execute_result"
    }
   ],
   "source": [
    "# value is updated\n",
    "a[0]=6\n",
    "a\n"
   ]
  },
  {
   "cell_type": "code",
   "execution_count": 99,
   "id": "fb79b315",
   "metadata": {},
   "outputs": [
    {
     "data": {
      "text/plain": [
       "(6, 2, 3, 3)"
      ]
     },
     "execution_count": 99,
     "metadata": {},
     "output_type": "execute_result"
    }
   ],
   "source": [
    "a=tuple(a)\n",
    "a"
   ]
  },
  {
   "cell_type": "code",
   "execution_count": 100,
   "id": "29d7d6ff",
   "metadata": {},
   "outputs": [],
   "source": [
    "a,b,c=2,3,4"
   ]
  },
  {
   "cell_type": "code",
   "execution_count": 101,
   "id": "f888e7df",
   "metadata": {},
   "outputs": [
    {
     "name": "stdout",
     "output_type": "stream",
     "text": [
      "apple\n",
      "banana\n",
      "cherry\n"
     ]
    }
   ],
   "source": [
    "fruits = (\"apple\", \"banana\", \"cherry\")\n",
    "\n",
    "(green, yellow, red) = fruits\n",
    "\n",
    "print(green)\n",
    "print(yellow)\n",
    "print(red)"
   ]
  },
  {
   "cell_type": "markdown",
   "id": "3bc554cb",
   "metadata": {},
   "source": [
    "# Dict\n",
    "\n",
    "\n",
    "- stored in keys and values"
   ]
  },
  {
   "cell_type": "code",
   "execution_count": 102,
   "id": "d9d63798",
   "metadata": {},
   "outputs": [],
   "source": [
    "thisdict = {\n",
    "  \"brand\": \"Ford\",\n",
    "  \"model\": \"Mustang\",            \n",
    "  \"year\": 1964\n",
    "}"
   ]
  },
  {
   "cell_type": "code",
   "execution_count": 103,
   "id": "d6f698d7",
   "metadata": {},
   "outputs": [
    {
     "name": "stdout",
     "output_type": "stream",
     "text": [
      "Ford\n"
     ]
    }
   ],
   "source": [
    "print(thisdict[\"brand\"])         # Use key instead of indexing"
   ]
  },
  {
   "cell_type": "code",
   "execution_count": 104,
   "id": "c818ac64",
   "metadata": {},
   "outputs": [
    {
     "name": "stdout",
     "output_type": "stream",
     "text": [
      "3\n"
     ]
    }
   ],
   "source": [
    "print(len(thisdict))\n"
   ]
  },
  {
   "cell_type": "code",
   "execution_count": 105,
   "id": "767b402a",
   "metadata": {},
   "outputs": [
    {
     "data": {
      "text/plain": [
       "dict_items([('brand', 'Ford'), ('model', 'Mustang'), ('year', 1964)])"
      ]
     },
     "execution_count": 105,
     "metadata": {},
     "output_type": "execute_result"
    }
   ],
   "source": [
    "x = thisdict.items()\n",
    "x"
   ]
  },
  {
   "cell_type": "code",
   "execution_count": 106,
   "id": "7b2f3b2d",
   "metadata": {},
   "outputs": [
    {
     "data": {
      "text/plain": [
       "dict_keys(['brand', 'model', 'year'])"
      ]
     },
     "execution_count": 106,
     "metadata": {},
     "output_type": "execute_result"
    }
   ],
   "source": [
    "thisdict.keys()"
   ]
  },
  {
   "cell_type": "code",
   "execution_count": 107,
   "id": "7aeb7df9",
   "metadata": {},
   "outputs": [
    {
     "data": {
      "text/plain": [
       "dict_values(['Ford', 'Mustang', 1964])"
      ]
     },
     "execution_count": 107,
     "metadata": {},
     "output_type": "execute_result"
    }
   ],
   "source": [
    "thisdict.values()"
   ]
  },
  {
   "cell_type": "code",
   "execution_count": 108,
   "id": "62fc4c1c",
   "metadata": {},
   "outputs": [
    {
     "data": {
      "text/plain": [
       "{'brand': 'Ford', 'model': 'Mustang', 'year': 1964, 'color': 'green'}"
      ]
     },
     "execution_count": 108,
     "metadata": {},
     "output_type": "execute_result"
    }
   ],
   "source": [
    "# update\n",
    "\n",
    "thisdict['color']= \"green\"\n",
    "\n",
    "thisdict"
   ]
  },
  {
   "cell_type": "code",
   "execution_count": 109,
   "id": "7bbdc948",
   "metadata": {},
   "outputs": [],
   "source": [
    "thisdict = {\n",
    "  \"brand\": \"Ford\",\n",
    "  \"model\": \"Mustang\",\n",
    "  \"year\": 1964\n",
    "}"
   ]
  },
  {
   "cell_type": "code",
   "execution_count": 110,
   "id": "83768978",
   "metadata": {},
   "outputs": [],
   "source": [
    "myfamily = {\n",
    "\n",
    "              \"child1\" :    {\n",
    "                  \n",
    "                            \"name\" : \"Emil\",\n",
    "                            \"year\" : 2004\n",
    "                  \n",
    "                              },\n",
    "\n",
    "           }"
   ]
  },
  {
   "cell_type": "code",
   "execution_count": 111,
   "id": "f79023dd",
   "metadata": {},
   "outputs": [
    {
     "data": {
      "text/plain": [
       "2004"
      ]
     },
     "execution_count": 111,
     "metadata": {},
     "output_type": "execute_result"
    }
   ],
   "source": [
    "myfamily['child1']['year']"
   ]
  },
  {
   "cell_type": "markdown",
   "id": "2a76fff2",
   "metadata": {},
   "source": [
    "# If and else statement "
   ]
  },
  {
   "cell_type": "code",
   "execution_count": 112,
   "id": "dbc32c98",
   "metadata": {},
   "outputs": [
    {
     "name": "stdout",
     "output_type": "stream",
     "text": [
      "7\n"
     ]
    }
   ],
   "source": [
    "a=7\n",
    "if a<=10:\n",
    "    print(a)"
   ]
  },
  {
   "cell_type": "code",
   "execution_count": 113,
   "id": "62a277f5",
   "metadata": {},
   "outputs": [
    {
     "name": "stdout",
     "output_type": "stream",
     "text": [
      "a is greater than 10\n"
     ]
    }
   ],
   "source": [
    "a=100\n",
    "if a<=10:\n",
    "    print(a)\n",
    "else:\n",
    "    print('a is greater than 10')"
   ]
  },
  {
   "cell_type": "code",
   "execution_count": 114,
   "id": "a36f1c9e",
   "metadata": {},
   "outputs": [
    {
     "name": "stdout",
     "output_type": "stream",
     "text": [
      "a is 17\n"
     ]
    }
   ],
   "source": [
    "a=17\n",
    "if a<=10:                             # if condition is true\n",
    "    print('The value is :',a)\n",
    "    \n",
    "if a==17:\n",
    "    print('a is 17')\n",
    "    \n",
    "else:                                   # all condition failed\n",
    "    print('Sorry Your value is less than 10')"
   ]
  },
  {
   "cell_type": "code",
   "execution_count": 115,
   "id": "9b115ccf",
   "metadata": {},
   "outputs": [
    {
     "name": "stdout",
     "output_type": "stream",
     "text": [
      "Sorry Your value is greater than 10\n"
     ]
    }
   ],
   "source": [
    "a=20\n",
    "if a<=10:                             # if condition is true\n",
    "    print('The value is :',a)\n",
    "    \n",
    "elif a==17:\n",
    "    print('a is 17')\n",
    "    \n",
    "else:                                   # all condition failed\n",
    "    print('Sorry Your value is greater than 10')"
   ]
  },
  {
   "cell_type": "code",
   "execution_count": 116,
   "id": "98539bca",
   "metadata": {},
   "outputs": [],
   "source": [
    "account={\n",
    "    'sabari':{\n",
    "        'password':0,\n",
    "        \"amount\":100\n",
    "    },\n",
    "    'alice':{\n",
    "        'password':1,\n",
    "        \"amount\":200\n",
    "    },\n",
    "    'shobi':{\n",
    "        'password':2,\n",
    "        \"amount\":300\n",
    "    }\n",
    "       \n",
    "}\n"
   ]
  },
  {
   "cell_type": "code",
   "execution_count": 117,
   "id": "81a51a3e",
   "metadata": {},
   "outputs": [
    {
     "data": {
      "text/plain": [
       "(0, 100)"
      ]
     },
     "execution_count": 117,
     "metadata": {},
     "output_type": "execute_result"
    }
   ],
   "source": [
    "account['sabari']['password'],account['sabari']['amount']"
   ]
  },
  {
   "cell_type": "code",
   "execution_count": 118,
   "id": "f787ba5c",
   "metadata": {},
   "outputs": [
    {
     "name": "stdout",
     "output_type": "stream",
     "text": [
      "Your balance is : 200\n"
     ]
    }
   ],
   "source": [
    "name='alice'\n",
    "password=1\n",
    "\n",
    "\n",
    "if name=='sabari' and password==account['sabari']['password']:\n",
    "    print ('Your balance is :',account['sabari']['amount'])\n",
    "\n",
    "elif name=='alice' and password==account['alice']['password']:\n",
    "    print ('Your balance is :',account['alice']['amount'])\n",
    "\n",
    "elif name=='shobi' and password==account['shobi']['password']:\n",
    "    print ('Your balance is :',account['shobi']['amount'])\n",
    "else:\n",
    "    print('Account and Password is wrong')"
   ]
  },
  {
   "cell_type": "markdown",
   "id": "624062f4",
   "metadata": {},
   "source": [
    "# For loop "
   ]
  },
  {
   "cell_type": "code",
   "execution_count": 119,
   "id": "4cd1c48c",
   "metadata": {},
   "outputs": [
    {
     "name": "stdout",
     "output_type": "stream",
     "text": [
      "1\n",
      "2\n",
      "3\n",
      "4\n",
      "5\n"
     ]
    }
   ],
   "source": [
    "a=[1,2,3,4,5]\n",
    "\n",
    "\n",
    "for item in a:\n",
    "    print(item)"
   ]
  },
  {
   "cell_type": "code",
   "execution_count": 120,
   "id": "9d6f3b65",
   "metadata": {},
   "outputs": [
    {
     "name": "stdout",
     "output_type": "stream",
     "text": [
      "apple\n",
      "banana\n",
      "cherry\n"
     ]
    }
   ],
   "source": [
    "fruits = [\"apple\", \"banana\", \"cherry\"]\n",
    "for fruit in fruits:\n",
    "  print(fruit)"
   ]
  },
  {
   "cell_type": "code",
   "execution_count": 121,
   "id": "5048f398",
   "metadata": {},
   "outputs": [
    {
     "name": "stdout",
     "output_type": "stream",
     "text": [
      "hey! its contain fiber\n",
      "its banana\n"
     ]
    }
   ],
   "source": [
    "fruits = [\"apple\", \"banana\", \"cherry\"]\n",
    "\n",
    "for fruit in fruits:  \n",
    "    if fruit=='apple':\n",
    "        print('hey! its contain fiber')\n",
    "        \n",
    "    elif fruit=='banana':\n",
    "        print('its banana')\n",
    "        break\n",
    "    else:\n",
    "        print('hey! a nice day')\n",
    "    "
   ]
  },
  {
   "cell_type": "code",
   "execution_count": 122,
   "id": "2fe500c0",
   "metadata": {},
   "outputs": [
    {
     "name": "stdout",
     "output_type": "stream",
     "text": [
      "apple\n",
      "banana\n",
      "your list iteam is over\n"
     ]
    }
   ],
   "source": [
    "fruits = [\"apple\", \"banana\", \"cherry\"]\n",
    "\n",
    "for x in fruits:\n",
    "    \n",
    "    if x == \"cherry\":\n",
    "        continue\n",
    "    print(x)\n",
    "else:\n",
    "    print('your list iteam is over')\n",
    "    "
   ]
  },
  {
   "cell_type": "code",
   "execution_count": 123,
   "id": "7511bdde",
   "metadata": {},
   "outputs": [
    {
     "name": "stdout",
     "output_type": "stream",
     "text": [
      "1\n",
      "2\n",
      "3\n",
      "4\n",
      "5\n"
     ]
    }
   ],
   "source": [
    "i = 1\n",
    "while i < 6:\n",
    "    print(i)\n",
    "    i=i+1"
   ]
  },
  {
   "cell_type": "markdown",
   "id": "103916ed",
   "metadata": {},
   "source": [
    "# Function\n",
    "\n",
    "- Block of code\n",
    "- code reproducibility"
   ]
  },
  {
   "cell_type": "code",
   "execution_count": 124,
   "id": "c0246af3",
   "metadata": {},
   "outputs": [
    {
     "name": "stdout",
     "output_type": "stream",
     "text": [
      "hello world\n"
     ]
    }
   ],
   "source": [
    "print('hello world')"
   ]
  },
  {
   "cell_type": "code",
   "execution_count": 128,
   "id": "3c91637d",
   "metadata": {},
   "outputs": [],
   "source": [
    "def add(a,b):           # function name('arguments')\n",
    "    print(a)\n",
    "    print(b)\n",
    "    print('the sum is :',a+b)"
   ]
  },
  {
   "cell_type": "code",
   "execution_count": 130,
   "id": "76bcfaef",
   "metadata": {},
   "outputs": [
    {
     "name": "stdout",
     "output_type": "stream",
     "text": [
      "1\n",
      "2\n",
      "the sum is : 3\n"
     ]
    }
   ],
   "source": [
    "add(1,2)"
   ]
  },
  {
   "cell_type": "code",
   "execution_count": 160,
   "id": "72ac1eec",
   "metadata": {},
   "outputs": [
    {
     "name": "stdout",
     "output_type": "stream",
     "text": [
      "4\n",
      "3\n",
      "the sum is : 7\n"
     ]
    }
   ],
   "source": [
    "def add(a,b=3):           # default arguments\n",
    "    print(a)\n",
    "    print(b)\n",
    "    print('the sum is :',a+b)\n",
    "    \n",
    "    \n",
    "    \n",
    "add(4)"
   ]
  },
  {
   "cell_type": "code",
   "execution_count": 134,
   "id": "0ee88a3d",
   "metadata": {},
   "outputs": [
    {
     "ename": "TypeError",
     "evalue": "add() missing 1 required positional argument: 'b'",
     "output_type": "error",
     "traceback": [
      "\u001b[1;31m---------------------------------------------------------------------------\u001b[0m",
      "\u001b[1;31mTypeError\u001b[0m                                 Traceback (most recent call last)",
      "Input \u001b[1;32mIn [134]\u001b[0m, in \u001b[0;36m<module>\u001b[1;34m\u001b[0m\n\u001b[1;32m----> 1\u001b[0m \u001b[43madd\u001b[49m\u001b[43m(\u001b[49m\u001b[38;5;241;43m1\u001b[39;49m\u001b[43m)\u001b[49m\n",
      "\u001b[1;31mTypeError\u001b[0m: add() missing 1 required positional argument: 'b'"
     ]
    }
   ],
   "source": [
    "add(1)       # number of and position of arguments  in important"
   ]
  },
  {
   "cell_type": "code",
   "execution_count": 162,
   "id": "4edec23c",
   "metadata": {},
   "outputs": [],
   "source": [
    "#position of argument\n",
    "\n",
    "def mul (x,y):\n",
    "    print('x =',x)\n",
    "    print('y =',y)\n",
    "    return 'The answer is ',x*y\n"
   ]
  },
  {
   "cell_type": "code",
   "execution_count": 154,
   "id": "25a735f6",
   "metadata": {},
   "outputs": [
    {
     "name": "stdout",
     "output_type": "stream",
     "text": [
      "x = 2\n",
      "y = 4\n"
     ]
    },
    {
     "data": {
      "text/plain": [
       "('The answer is ', 8)"
      ]
     },
     "execution_count": 154,
     "metadata": {},
     "output_type": "execute_result"
    }
   ],
   "source": [
    "mul(2,4)"
   ]
  },
  {
   "cell_type": "code",
   "execution_count": 155,
   "id": "911cb331",
   "metadata": {},
   "outputs": [
    {
     "name": "stdout",
     "output_type": "stream",
     "text": [
      "x = 4\n",
      "y = 2\n"
     ]
    },
    {
     "data": {
      "text/plain": [
       "('The answer is ', 8)"
      ]
     },
     "execution_count": 155,
     "metadata": {},
     "output_type": "execute_result"
    }
   ],
   "source": [
    "mul(4,2)"
   ]
  },
  {
   "cell_type": "code",
   "execution_count": 156,
   "id": "91b7f942",
   "metadata": {},
   "outputs": [
    {
     "name": "stdout",
     "output_type": "stream",
     "text": [
      "x = 4\n",
      "y = 2\n"
     ]
    },
    {
     "data": {
      "text/plain": [
       "('The answer is ', 8)"
      ]
     },
     "execution_count": 156,
     "metadata": {},
     "output_type": "execute_result"
    }
   ],
   "source": [
    "mul(y=2,x=4)        # mention the arguments"
   ]
  },
  {
   "cell_type": "code",
   "execution_count": 157,
   "id": "8c2a7eb2",
   "metadata": {},
   "outputs": [],
   "source": [
    "# modularity"
   ]
  },
  {
   "cell_type": "code",
   "execution_count": null,
   "id": "640c56b1",
   "metadata": {},
   "outputs": [],
   "source": []
  },
  {
   "cell_type": "code",
   "execution_count": null,
   "id": "179f7f84",
   "metadata": {},
   "outputs": [],
   "source": []
  },
  {
   "cell_type": "code",
   "execution_count": null,
   "id": "f36c1264",
   "metadata": {},
   "outputs": [],
   "source": []
  },
  {
   "cell_type": "code",
   "execution_count": null,
   "id": "359dc9cc",
   "metadata": {},
   "outputs": [],
   "source": []
  },
  {
   "cell_type": "code",
   "execution_count": null,
   "id": "1ef8fdd5",
   "metadata": {},
   "outputs": [],
   "source": []
  },
  {
   "cell_type": "code",
   "execution_count": null,
   "id": "3d24c853",
   "metadata": {},
   "outputs": [],
   "source": []
  },
  {
   "cell_type": "code",
   "execution_count": null,
   "id": "04c36aac",
   "metadata": {},
   "outputs": [],
   "source": []
  },
  {
   "cell_type": "code",
   "execution_count": null,
   "id": "f9852700",
   "metadata": {},
   "outputs": [],
   "source": []
  },
  {
   "cell_type": "code",
   "execution_count": null,
   "id": "ad699c30",
   "metadata": {},
   "outputs": [],
   "source": []
  },
  {
   "cell_type": "code",
   "execution_count": null,
   "id": "fa55126c",
   "metadata": {},
   "outputs": [],
   "source": []
  },
  {
   "cell_type": "code",
   "execution_count": null,
   "id": "85d23aaf",
   "metadata": {},
   "outputs": [],
   "source": []
  },
  {
   "cell_type": "code",
   "execution_count": null,
   "id": "560ec57a",
   "metadata": {},
   "outputs": [],
   "source": []
  }
 ],
 "metadata": {
  "kernelspec": {
   "display_name": "Python 3 (ipykernel)",
   "language": "python",
   "name": "python3"
  },
  "language_info": {
   "codemirror_mode": {
    "name": "ipython",
    "version": 3
   },
   "file_extension": ".py",
   "mimetype": "text/x-python",
   "name": "python",
   "nbconvert_exporter": "python",
   "pygments_lexer": "ipython3",
   "version": "3.9.10"
  },
  "vscode": {
   "interpreter": {
    "hash": "79e364102e426a5993b14eda13614382bbfcb97f7025d039ddbbe60059254eec"
   }
  }
 },
 "nbformat": 4,
 "nbformat_minor": 5
}
