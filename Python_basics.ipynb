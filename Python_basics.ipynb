{
 "cells": [
  {
   "cell_type": "markdown",
   "id": "6731a86e",
   "metadata": {},
   "source": [
    "# Variable\n",
    "\n",
    "- to store data values\n",
    "\n"
   ]
  },
  {
   "cell_type": "code",
   "execution_count": 38,
   "id": "b8b4c7a5",
   "metadata": {},
   "outputs": [
    {
     "name": "stdout",
     "output_type": "stream",
     "text": [
      "1\n"
     ]
    }
   ],
   "source": [
    "a=1                                 # a is variable\n",
    "print(a)"
   ]
  },
  {
   "cell_type": "code",
   "execution_count": 39,
   "id": "7c7a9bb6",
   "metadata": {},
   "outputs": [],
   "source": [
    "b=[1,2,3,4,5,6]"
   ]
  },
  {
   "cell_type": "code",
   "execution_count": 40,
   "id": "8f6b5ce1",
   "metadata": {},
   "outputs": [
    {
     "name": "stdout",
     "output_type": "stream",
     "text": [
      "[1, 2, 3, 4, 5, 6]\n"
     ]
    }
   ],
   "source": [
    "print(b)"
   ]
  },
  {
   "cell_type": "code",
   "execution_count": 41,
   "id": "98dd51f1",
   "metadata": {},
   "outputs": [],
   "source": [
    "a=1\n",
    "B=2\n",
    "C=3\n",
    "\n",
    "\n",
    "# or\n",
    "\n",
    "\n",
    "a,b,c=1,2,3\n"
   ]
  },
  {
   "cell_type": "markdown",
   "id": "d5c2cf26",
   "metadata": {},
   "source": [
    "Variables\n",
    "\n",
    "- letters , words\n",
    "- caps sensitive\n",
    "\n",
    "- no spaces,\n",
    "- not allowed : 1st symbols,number"
   ]
  },
  {
   "cell_type": "code",
   "execution_count": 42,
   "id": "c743b220",
   "metadata": {},
   "outputs": [
    {
     "name": "stdout",
     "output_type": "stream",
     "text": [
      "3 2\n"
     ]
    }
   ],
   "source": [
    "a=2\n",
    "A=3\n",
    "\n",
    "print(A,a)"
   ]
  },
  {
   "cell_type": "code",
   "execution_count": 43,
   "id": "510f2511",
   "metadata": {},
   "outputs": [
    {
     "name": "stdout",
     "output_type": "stream",
     "text": [
      "3\n"
     ]
    }
   ],
   "source": [
    "a=2\n",
    "\n",
    "a=3         # variable value is updated\n",
    "print(a)"
   ]
  },
  {
   "cell_type": "code",
   "execution_count": 44,
   "id": "c8b755bf",
   "metadata": {},
   "outputs": [],
   "source": [
    "data_science=88\n",
    "DataSceince=88\n",
    "Datascience=888"
   ]
  },
  {
   "cell_type": "markdown",
   "id": "17077b27",
   "metadata": {},
   "source": [
    "## Cap Sensitive"
   ]
  },
  {
   "cell_type": "code",
   "execution_count": 45,
   "id": "2f5d8a5d",
   "metadata": {},
   "outputs": [],
   "source": [
    "Apple=24"
   ]
  },
  {
   "cell_type": "code",
   "execution_count": 46,
   "id": "ac5586c0",
   "metadata": {},
   "outputs": [
    {
     "name": "stdout",
     "output_type": "stream",
     "text": [
      "24\n"
     ]
    }
   ],
   "source": [
    "print(Apple)"
   ]
  },
  {
   "cell_type": "code",
   "execution_count": 47,
   "id": "1eb1d838",
   "metadata": {},
   "outputs": [
    {
     "ename": "NameError",
     "evalue": "name 'apple' is not defined",
     "output_type": "error",
     "traceback": [
      "\u001b[1;31m---------------------------------------------------------------------------\u001b[0m",
      "\u001b[1;31mNameError\u001b[0m                                 Traceback (most recent call last)",
      "Input \u001b[1;32mIn [47]\u001b[0m, in \u001b[0;36m<module>\u001b[1;34m\u001b[0m\n\u001b[1;32m----> 1\u001b[0m \u001b[38;5;28mprint\u001b[39m(\u001b[43mapple\u001b[49m)\n",
      "\u001b[1;31mNameError\u001b[0m: name 'apple' is not defined"
     ]
    }
   ],
   "source": [
    "print(apple)"
   ]
  },
  {
   "cell_type": "markdown",
   "id": "d237c540",
   "metadata": {},
   "source": [
    "# Data types"
   ]
  },
  {
   "cell_type": "markdown",
   "id": "0cd1cb14",
   "metadata": {},
   "source": [
    "# String (str)\n",
    "\n",
    "- letters\n",
    "-  use coat ' ' , \" \", \"\"\" \"\"\""
   ]
  },
  {
   "cell_type": "code",
   "execution_count": 48,
   "id": "09e8aba0",
   "metadata": {},
   "outputs": [
    {
     "name": "stdout",
     "output_type": "stream",
     "text": [
      "demo\n"
     ]
    },
    {
     "data": {
      "text/plain": [
       "str"
      ]
     },
     "execution_count": 48,
     "metadata": {},
     "output_type": "execute_result"
    }
   ],
   "source": [
    "a='demo'\n",
    "\n",
    "d='13.0'\n",
    "\n",
    "\n",
    "print(a)\n",
    "\n",
    "type(a)"
   ]
  },
  {
   "cell_type": "code",
   "execution_count": 49,
   "id": "6eb08687",
   "metadata": {},
   "outputs": [
    {
     "data": {
      "text/plain": [
       "str"
      ]
     },
     "execution_count": 49,
     "metadata": {},
     "output_type": "execute_result"
    }
   ],
   "source": [
    "type(d)"
   ]
  },
  {
   "cell_type": "markdown",
   "id": "efebfdea",
   "metadata": {},
   "source": [
    "# String Slicing\n",
    "## Indexing\n",
    "\n",
    "\n",
    "- starts from 0 \n",
    "- last -- extra 1"
   ]
  },
  {
   "cell_type": "code",
   "execution_count": 50,
   "id": "d8e1d799",
   "metadata": {
    "scrolled": true
   },
   "outputs": [
    {
     "name": "stdout",
     "output_type": "stream",
     "text": [
      "i am sabarinath\n"
     ]
    }
   ],
   "source": [
    "s='i am sabarinath'\n",
    "print(s)"
   ]
  },
  {
   "cell_type": "code",
   "execution_count": 51,
   "id": "1c7f8eae",
   "metadata": {},
   "outputs": [
    {
     "data": {
      "text/plain": [
       "15"
      ]
     },
     "execution_count": 51,
     "metadata": {},
     "output_type": "execute_result"
    }
   ],
   "source": [
    "len(s)   # include whitespaces"
   ]
  },
  {
   "cell_type": "code",
   "execution_count": 52,
   "id": "c2022ca6",
   "metadata": {},
   "outputs": [
    {
     "data": {
      "text/plain": [
       "'i'"
      ]
     },
     "execution_count": 52,
     "metadata": {},
     "output_type": "execute_result"
    }
   ],
   "source": [
    "s[0]"
   ]
  },
  {
   "cell_type": "code",
   "execution_count": 53,
   "id": "517f6109",
   "metadata": {},
   "outputs": [
    {
     "data": {
      "text/plain": [
       "'i am'"
      ]
     },
     "execution_count": 53,
     "metadata": {},
     "output_type": "execute_result"
    }
   ],
   "source": [
    "s[0:4]"
   ]
  },
  {
   "cell_type": "code",
   "execution_count": 54,
   "id": "70a34c54",
   "metadata": {},
   "outputs": [
    {
     "data": {
      "text/plain": [
       "'sabari'"
      ]
     },
     "execution_count": 54,
     "metadata": {},
     "output_type": "execute_result"
    }
   ],
   "source": [
    "s[5:11]"
   ]
  },
  {
   "cell_type": "code",
   "execution_count": 55,
   "id": "390a89a8",
   "metadata": {},
   "outputs": [
    {
     "name": "stdout",
     "output_type": "stream",
     "text": [
      "True\n"
     ]
    }
   ],
   "source": [
    "txt = \"The best things in life are free ! is it best\"\n",
    "print(\"free\" in txt)"
   ]
  },
  {
   "cell_type": "code",
   "execution_count": 56,
   "id": "1d9c0140",
   "metadata": {},
   "outputs": [
    {
     "data": {
      "text/plain": [
       "'THE BEST THINGS IN LIFE ARE FREE ! IS IT BEST'"
      ]
     },
     "execution_count": 56,
     "metadata": {},
     "output_type": "execute_result"
    }
   ],
   "source": [
    "txt.upper()"
   ]
  },
  {
   "cell_type": "code",
   "execution_count": 57,
   "id": "4c293a43",
   "metadata": {},
   "outputs": [
    {
     "data": {
      "text/plain": [
       "'the best things in life are free ! is it best'"
      ]
     },
     "execution_count": 57,
     "metadata": {},
     "output_type": "execute_result"
    }
   ],
   "source": [
    "txt.lower()"
   ]
  },
  {
   "cell_type": "code",
   "execution_count": 58,
   "id": "4b079cc1",
   "metadata": {},
   "outputs": [
    {
     "data": {
      "text/plain": [
       "'The first things in life are free ! is it first'"
      ]
     },
     "execution_count": 58,
     "metadata": {},
     "output_type": "execute_result"
    }
   ],
   "source": [
    "txt.replace('best','first')"
   ]
  },
  {
   "cell_type": "markdown",
   "id": "6b7a8cd1",
   "metadata": {},
   "source": [
    "# Format String\n",
    "\n",
    "-  order is important"
   ]
  },
  {
   "cell_type": "code",
   "execution_count": 59,
   "id": "e4e29839",
   "metadata": {},
   "outputs": [
    {
     "name": "stdout",
     "output_type": "stream",
     "text": [
      "My name is John, I am 36\n"
     ]
    }
   ],
   "source": [
    "age = str(36)\n",
    "txt = \"My name is John, I am \" + age\n",
    "print(txt)"
   ]
  },
  {
   "cell_type": "code",
   "execution_count": 60,
   "id": "58444ece",
   "metadata": {},
   "outputs": [],
   "source": [
    "age = 36\n",
    "name='alice'\n"
   ]
  },
  {
   "cell_type": "code",
   "execution_count": 61,
   "id": "4277be27",
   "metadata": {},
   "outputs": [
    {
     "data": {
      "text/plain": [
       "'My name is alice, and I am 36'"
      ]
     },
     "execution_count": 61,
     "metadata": {},
     "output_type": "execute_result"
    }
   ],
   "source": [
    "txt = \"My name is {}, and I am {}\".format(name,age)\n",
    "txt"
   ]
  },
  {
   "cell_type": "code",
   "execution_count": 62,
   "id": "c8a3cbec",
   "metadata": {},
   "outputs": [
    {
     "data": {
      "text/plain": [
       "'My name is alice, and I am 36'"
      ]
     },
     "execution_count": 62,
     "metadata": {},
     "output_type": "execute_result"
    }
   ],
   "source": [
    "txt = f\"My name is {name}, and I am {age}\"\n",
    "txt"
   ]
  },
  {
   "cell_type": "code",
   "execution_count": 63,
   "id": "cc2f5dac",
   "metadata": {},
   "outputs": [
    {
     "name": "stdout",
     "output_type": "stream",
     "text": [
      "your name :\n",
      "your year :\n",
      "your age :\n"
     ]
    },
    {
     "ename": "ValueError",
     "evalue": "invalid literal for int() with base 10: ''",
     "output_type": "error",
     "traceback": [
      "\u001b[1;31m---------------------------------------------------------------------------\u001b[0m",
      "\u001b[1;31mValueError\u001b[0m                                Traceback (most recent call last)",
      "Input \u001b[1;32mIn [63]\u001b[0m, in \u001b[0;36m<module>\u001b[1;34m\u001b[0m\n\u001b[0;32m      1\u001b[0m name\u001b[38;5;241m=\u001b[39m\u001b[38;5;28minput\u001b[39m(\u001b[38;5;124m'\u001b[39m\u001b[38;5;124myour name :\u001b[39m\u001b[38;5;124m'\u001b[39m)                 \u001b[38;5;66;03m# always return as stirng\u001b[39;00m\n\u001b[0;32m      3\u001b[0m year\u001b[38;5;241m=\u001b[39m\u001b[38;5;28minput\u001b[39m(\u001b[38;5;124m'\u001b[39m\u001b[38;5;124myour year :\u001b[39m\u001b[38;5;124m'\u001b[39m)\n\u001b[1;32m----> 6\u001b[0m age\u001b[38;5;241m=\u001b[39m\u001b[38;5;28;43mint\u001b[39;49m\u001b[43m(\u001b[49m\u001b[38;5;28;43minput\u001b[39;49m\u001b[43m(\u001b[49m\u001b[38;5;124;43m'\u001b[39;49m\u001b[38;5;124;43myour age :\u001b[39;49m\u001b[38;5;124;43m'\u001b[39;49m\u001b[43m)\u001b[49m\u001b[43m)\u001b[49m\n",
      "\u001b[1;31mValueError\u001b[0m: invalid literal for int() with base 10: ''"
     ]
    }
   ],
   "source": [
    "name=input('your name :')                 # always return as stirng\n",
    "\n",
    "year=input('your year :')\n",
    "\n",
    "\n",
    "age=int(input('your age :'))              # using type casting"
   ]
  },
  {
   "cell_type": "code",
   "execution_count": null,
   "id": "f347a2aa",
   "metadata": {},
   "outputs": [],
   "source": [
    "type(year)"
   ]
  },
  {
   "cell_type": "code",
   "execution_count": null,
   "id": "0e87802c",
   "metadata": {},
   "outputs": [],
   "source": [
    "year+2"
   ]
  },
  {
   "cell_type": "code",
   "execution_count": null,
   "id": "6c7b81f5",
   "metadata": {},
   "outputs": [],
   "source": [
    "txt = f\"My name is {name}, and I am {age}\"\n",
    "txt"
   ]
  },
  {
   "cell_type": "code",
   "execution_count": null,
   "id": "28b28736",
   "metadata": {},
   "outputs": [],
   "source": [
    "age+3"
   ]
  },
  {
   "cell_type": "code",
   "execution_count": null,
   "id": "384bb885",
   "metadata": {},
   "outputs": [],
   "source": [
    "txt = \"Hello World!\\n nice\"\n",
    "print(txt) "
   ]
  },
  {
   "cell_type": "markdown",
   "id": "683bdd99",
   "metadata": {},
   "source": [
    "# Concatenation\n",
    "\n",
    "- join"
   ]
  },
  {
   "cell_type": "code",
   "execution_count": 64,
   "id": "b0c6b839",
   "metadata": {},
   "outputs": [],
   "source": [
    "a= 'dog'\n",
    "b=\"food\""
   ]
  },
  {
   "cell_type": "code",
   "execution_count": 65,
   "id": "a2616638",
   "metadata": {},
   "outputs": [
    {
     "data": {
      "text/plain": [
       "'dog food'"
      ]
     },
     "execution_count": 65,
     "metadata": {},
     "output_type": "execute_result"
    }
   ],
   "source": [
    "a+' '+b"
   ]
  },
  {
   "cell_type": "markdown",
   "id": "fe80c954",
   "metadata": {},
   "source": [
    "# Coats in strings\n"
   ]
  },
  {
   "cell_type": "code",
   "execution_count": 66,
   "id": "496e260f",
   "metadata": {},
   "outputs": [],
   "source": [
    "s= 'sabari' \n",
    "a=\"sabarinath\"\n",
    "b=\"K sabarianth\""
   ]
  },
  {
   "cell_type": "code",
   "execution_count": 67,
   "id": "2f974bda",
   "metadata": {},
   "outputs": [
    {
     "name": "stdout",
     "output_type": "stream",
     "text": [
      "sabari sabarinath K sabarianth\n"
     ]
    }
   ],
   "source": [
    "print(s,a,b)"
   ]
  },
  {
   "cell_type": "code",
   "execution_count": 68,
   "id": "b2c65933",
   "metadata": {},
   "outputs": [],
   "source": [
    "s=\"sabari had pen, pencil\""
   ]
  },
  {
   "cell_type": "markdown",
   "id": "a27f958c",
   "metadata": {},
   "source": [
    "## Numbers\n",
    "\n",
    "- whole number  ---  integer (int)\n",
    "- decimal value  ---- float \n",
    "- complex"
   ]
  },
  {
   "cell_type": "code",
   "execution_count": 69,
   "id": "c818b37f",
   "metadata": {},
   "outputs": [
    {
     "name": "stdout",
     "output_type": "stream",
     "text": [
      "1 3.9\n",
      "<class 'int'>\n",
      "<class 'float'>\n"
     ]
    }
   ],
   "source": [
    "a=1\n",
    "b=3.9\n",
    "\n",
    "print(a,b)\n",
    "print(type(a))\n",
    "print(type(b))"
   ]
  },
  {
   "cell_type": "code",
   "execution_count": 70,
   "id": "d04316fb",
   "metadata": {},
   "outputs": [
    {
     "data": {
      "text/plain": [
       "complex"
      ]
     },
     "execution_count": 70,
     "metadata": {},
     "output_type": "execute_result"
    }
   ],
   "source": [
    "x = 3+5j           #complex number\n",
    "type(x)"
   ]
  },
  {
   "cell_type": "code",
   "execution_count": 71,
   "id": "86a7cb2c",
   "metadata": {},
   "outputs": [
    {
     "data": {
      "text/plain": [
       "float"
      ]
     },
     "execution_count": 71,
     "metadata": {},
     "output_type": "execute_result"
    }
   ],
   "source": [
    "d=2.0\n",
    "type(d)"
   ]
  },
  {
   "cell_type": "code",
   "execution_count": 72,
   "id": "f9b9f8d1",
   "metadata": {},
   "outputs": [
    {
     "data": {
      "text/plain": [
       "int"
      ]
     },
     "execution_count": 72,
     "metadata": {},
     "output_type": "execute_result"
    }
   ],
   "source": [
    "c=2\n",
    "type(c)"
   ]
  },
  {
   "cell_type": "markdown",
   "id": "ba11f33f",
   "metadata": {},
   "source": [
    "# Type Conversion\n",
    "\n",
    "\n",
    "## you can\n",
    "\n",
    "- int,float -- convert--- str\n",
    "--int---float\n",
    "--float--- int\n",
    "\n",
    "\n",
    "## not\n",
    "\n",
    "- strg --not convert--int,float"
   ]
  },
  {
   "cell_type": "markdown",
   "id": "0e46b647",
   "metadata": {},
   "source": [
    "## Int to float"
   ]
  },
  {
   "cell_type": "code",
   "execution_count": 73,
   "id": "959bb4cd",
   "metadata": {},
   "outputs": [
    {
     "name": "stdout",
     "output_type": "stream",
     "text": [
      "12\n"
     ]
    }
   ],
   "source": [
    "a=12\n",
    "print(a)"
   ]
  },
  {
   "cell_type": "code",
   "execution_count": 74,
   "id": "b4c4542e",
   "metadata": {},
   "outputs": [],
   "source": [
    "a=float(12)"
   ]
  },
  {
   "cell_type": "code",
   "execution_count": 75,
   "id": "471393e7",
   "metadata": {},
   "outputs": [
    {
     "data": {
      "text/plain": [
       "float"
      ]
     },
     "execution_count": 75,
     "metadata": {},
     "output_type": "execute_result"
    }
   ],
   "source": [
    "type(a)"
   ]
  },
  {
   "cell_type": "code",
   "execution_count": 76,
   "id": "b8e5cd8a",
   "metadata": {},
   "outputs": [
    {
     "name": "stdout",
     "output_type": "stream",
     "text": [
      "12.0\n"
     ]
    }
   ],
   "source": [
    "print(a)"
   ]
  },
  {
   "cell_type": "markdown",
   "id": "e5f49f45",
   "metadata": {},
   "source": [
    "## float to int"
   ]
  },
  {
   "cell_type": "code",
   "execution_count": 77,
   "id": "18a6bbcf",
   "metadata": {},
   "outputs": [],
   "source": [
    "a=12.3\n",
    "\n",
    "\n",
    "a=int(12.699999)              # int conversion cannot roundoff"
   ]
  },
  {
   "cell_type": "code",
   "execution_count": 78,
   "id": "d93a4219",
   "metadata": {},
   "outputs": [
    {
     "name": "stdout",
     "output_type": "stream",
     "text": [
      "12\n"
     ]
    }
   ],
   "source": [
    "print(a)"
   ]
  },
  {
   "cell_type": "markdown",
   "id": "a3d343f0",
   "metadata": {},
   "source": [
    "## float ,int to Str"
   ]
  },
  {
   "cell_type": "code",
   "execution_count": 79,
   "id": "9affd754",
   "metadata": {},
   "outputs": [
    {
     "name": "stdout",
     "output_type": "stream",
     "text": [
      "13\n"
     ]
    }
   ],
   "source": [
    "a=13\n",
    "b=14.5\n",
    "\n",
    "a=str('13')\n",
    "print(a)"
   ]
  },
  {
   "cell_type": "code",
   "execution_count": 80,
   "id": "d9b4d0cd",
   "metadata": {},
   "outputs": [
    {
     "data": {
      "text/plain": [
       "str"
      ]
     },
     "execution_count": 80,
     "metadata": {},
     "output_type": "execute_result"
    }
   ],
   "source": [
    "type(a)"
   ]
  },
  {
   "cell_type": "code",
   "execution_count": 81,
   "id": "cc36ca1f",
   "metadata": {},
   "outputs": [
    {
     "name": "stdout",
     "output_type": "stream",
     "text": [
      "13\n"
     ]
    }
   ],
   "source": [
    "print(a)"
   ]
  },
  {
   "cell_type": "code",
   "execution_count": 82,
   "id": "a1b218ea",
   "metadata": {},
   "outputs": [],
   "source": [
    "password=str(12345678)\n",
    "name='deap'"
   ]
  },
  {
   "cell_type": "code",
   "execution_count": 83,
   "id": "77abae3c",
   "metadata": {},
   "outputs": [],
   "source": [
    "deap=name+password"
   ]
  },
  {
   "cell_type": "code",
   "execution_count": 84,
   "id": "ed54bd5c",
   "metadata": {},
   "outputs": [
    {
     "data": {
      "text/plain": [
       "'deap12345678'"
      ]
     },
     "execution_count": 84,
     "metadata": {},
     "output_type": "execute_result"
    }
   ],
   "source": [
    "deap"
   ]
  },
  {
   "cell_type": "markdown",
   "id": "acbeeba6",
   "metadata": {},
   "source": [
    "# Booleans"
   ]
  },
  {
   "cell_type": "code",
   "execution_count": 85,
   "id": "195ebff3",
   "metadata": {},
   "outputs": [
    {
     "data": {
      "text/plain": [
       "True"
      ]
     },
     "execution_count": 85,
     "metadata": {},
     "output_type": "execute_result"
    }
   ],
   "source": [
    "1==1"
   ]
  },
  {
   "cell_type": "code",
   "execution_count": 86,
   "id": "64e0051a",
   "metadata": {},
   "outputs": [
    {
     "data": {
      "text/plain": [
       "False"
      ]
     },
     "execution_count": 86,
     "metadata": {},
     "output_type": "execute_result"
    }
   ],
   "source": [
    "1!=1"
   ]
  },
  {
   "cell_type": "code",
   "execution_count": 87,
   "id": "4c24290f",
   "metadata": {},
   "outputs": [
    {
     "name": "stdout",
     "output_type": "stream",
     "text": [
      "False\n"
     ]
    }
   ],
   "source": [
    "txt = \"The best things in life are free ! is it best\"\n",
    "print(\"coin\" in txt)"
   ]
  },
  {
   "cell_type": "markdown",
   "id": "4c84a716",
   "metadata": {},
   "source": [
    "There are four collection data types in the Python programming language:\n",
    "\n",
    "- List is a collection which is ordered and changeable. Allows duplicate members.     []\n",
    "- Tuple is a collection which is ordered and unchangeable. Allows duplicate members.   ()\n",
    "- Set is a collection which is unordered, unchangeable*, and unindexed. No duplicate members. {}\n",
    "- Dictionary is a collection which is ordered** and changeable. No duplicate members.{}"
   ]
  },
  {
   "cell_type": "code",
   "execution_count": 110,
   "id": "f9226ee3",
   "metadata": {},
   "outputs": [
    {
     "data": {
      "text/plain": [
       "list"
      ]
     },
     "execution_count": 110,
     "metadata": {},
     "output_type": "execute_result"
    }
   ],
   "source": [
    "type([])"
   ]
  },
  {
   "cell_type": "code",
   "execution_count": 111,
   "id": "78385582",
   "metadata": {},
   "outputs": [
    {
     "data": {
      "text/plain": [
       "tuple"
      ]
     },
     "execution_count": 111,
     "metadata": {},
     "output_type": "execute_result"
    }
   ],
   "source": [
    "type(())"
   ]
  },
  {
   "cell_type": "code",
   "execution_count": 112,
   "id": "107d4efd",
   "metadata": {},
   "outputs": [
    {
     "data": {
      "text/plain": [
       "dict"
      ]
     },
     "execution_count": 112,
     "metadata": {},
     "output_type": "execute_result"
    }
   ],
   "source": [
    "type({})"
   ]
  },
  {
   "cell_type": "markdown",
   "id": "5c2cbc31",
   "metadata": {},
   "source": [
    "# List\n",
    " \n",
    " - [ ]"
   ]
  },
  {
   "cell_type": "code",
   "execution_count": 88,
   "id": "23aaebc7",
   "metadata": {},
   "outputs": [],
   "source": [
    "shop=[\"apple\", \"banana\", \"cherry\"] "
   ]
  },
  {
   "cell_type": "code",
   "execution_count": 89,
   "id": "6a028356",
   "metadata": {},
   "outputs": [
    {
     "data": {
      "text/plain": [
       "list"
      ]
     },
     "execution_count": 89,
     "metadata": {},
     "output_type": "execute_result"
    }
   ],
   "source": [
    "type(shop)"
   ]
  },
  {
   "cell_type": "code",
   "execution_count": 90,
   "id": "9f88d7aa",
   "metadata": {},
   "outputs": [
    {
     "data": {
      "text/plain": [
       "list"
      ]
     },
     "execution_count": 90,
     "metadata": {},
     "output_type": "execute_result"
    }
   ],
   "source": [
    "type([])"
   ]
  },
  {
   "cell_type": "code",
   "execution_count": 138,
   "id": "1d8e754a",
   "metadata": {},
   "outputs": [
    {
     "data": {
      "text/plain": [
       "['mango', 'banana']"
      ]
     },
     "execution_count": 138,
     "metadata": {},
     "output_type": "execute_result"
    }
   ],
   "source": [
    "# indexing in list is same as string\n",
    "shop[0:2]"
   ]
  },
  {
   "cell_type": "code",
   "execution_count": 132,
   "id": "c3ea85f6",
   "metadata": {},
   "outputs": [
    {
     "data": {
      "text/plain": [
       "['cherry']"
      ]
     },
     "execution_count": 132,
     "metadata": {},
     "output_type": "execute_result"
    }
   ],
   "source": [
    "shop[-1:]        #negative index(from last)"
   ]
  },
  {
   "cell_type": "code",
   "execution_count": 119,
   "id": "8b363657",
   "metadata": {},
   "outputs": [
    {
     "data": {
      "text/plain": [
       "['banana', 'cherry']"
      ]
     },
     "execution_count": 119,
     "metadata": {},
     "output_type": "execute_result"
    }
   ],
   "source": [
    "shop[1:3]"
   ]
  },
  {
   "cell_type": "code",
   "execution_count": 131,
   "id": "27fb2923",
   "metadata": {},
   "outputs": [
    {
     "data": {
      "text/plain": [
       "['mango', 'banana', 'cherry']"
      ]
     },
     "execution_count": 131,
     "metadata": {},
     "output_type": "execute_result"
    }
   ],
   "source": [
    "shop[-3:]"
   ]
  },
  {
   "cell_type": "code",
   "execution_count": 95,
   "id": "ec718ec3",
   "metadata": {},
   "outputs": [],
   "source": [
    "shop2=[1,2,3]"
   ]
  },
  {
   "cell_type": "code",
   "execution_count": 99,
   "id": "7cd7ef4f",
   "metadata": {},
   "outputs": [],
   "source": [
    "# concat in list\n",
    "\n",
    "shops=shop+shop2"
   ]
  },
  {
   "cell_type": "code",
   "execution_count": 100,
   "id": "f75d1b6c",
   "metadata": {},
   "outputs": [
    {
     "data": {
      "text/plain": [
       "['apple', 'banana', 'cherry', 1, 2, 3]"
      ]
     },
     "execution_count": 100,
     "metadata": {},
     "output_type": "execute_result"
    }
   ],
   "source": [
    "shops"
   ]
  },
  {
   "cell_type": "code",
   "execution_count": 102,
   "id": "1e130a18",
   "metadata": {},
   "outputs": [
    {
     "data": {
      "text/plain": [
       "3"
      ]
     },
     "execution_count": 102,
     "metadata": {},
     "output_type": "execute_result"
    }
   ],
   "source": [
    "len(shop)"
   ]
  },
  {
   "cell_type": "code",
   "execution_count": 103,
   "id": "fa5b20be",
   "metadata": {},
   "outputs": [],
   "source": [
    "#change item in list\n",
    "\n",
    "shop[0]='mango'    #apple to mango"
   ]
  },
  {
   "cell_type": "code",
   "execution_count": 139,
   "id": "cb2d0704",
   "metadata": {},
   "outputs": [],
   "source": [
    "# Duplicates\n",
    "\n",
    "shop2=shop+['apple','pineapple','apple',1,1.2,True]   "
   ]
  },
  {
   "cell_type": "code",
   "execution_count": 140,
   "id": "e00a1114",
   "metadata": {},
   "outputs": [
    {
     "data": {
      "text/plain": [
       "['mango', 'banana', 'cherry', 'apple', 'pineapple', 'apple', 1, 1.2, True]"
      ]
     },
     "execution_count": 140,
     "metadata": {},
     "output_type": "execute_result"
    }
   ],
   "source": [
    "shop2"
   ]
  },
  {
   "cell_type": "code",
   "execution_count": 142,
   "id": "b4b1333a",
   "metadata": {},
   "outputs": [],
   "source": [
    "shop2[0:3]=[1,2,3]"
   ]
  },
  {
   "cell_type": "code",
   "execution_count": 144,
   "id": "289b68b1",
   "metadata": {},
   "outputs": [
    {
     "data": {
      "text/plain": [
       "[1, 2, 3, 'apple', 'pineapple', 'apple', 1, 1.2, True]"
      ]
     },
     "execution_count": 144,
     "metadata": {},
     "output_type": "execute_result"
    }
   ],
   "source": [
    "shop2"
   ]
  },
  {
   "cell_type": "markdown",
   "id": "2a7deb6b",
   "metadata": {},
   "source": [
    "# Add"
   ]
  },
  {
   "cell_type": "code",
   "execution_count": 146,
   "id": "e97aa687",
   "metadata": {},
   "outputs": [
    {
     "name": "stdout",
     "output_type": "stream",
     "text": [
      "['apple', 'banana', 'watermelon', 'cherry']\n"
     ]
    }
   ],
   "source": [
    "thislist = [\"apple\", \"banana\", \"cherry\"]\n",
    "thislist.insert(2, \"watermelon\")            # insert (indexing)\n",
    "print(thislist)"
   ]
  },
  {
   "cell_type": "code",
   "execution_count": 148,
   "id": "9b2c9914",
   "metadata": {},
   "outputs": [
    {
     "name": "stdout",
     "output_type": "stream",
     "text": [
      "['apple', 'banana', 'cherry', 'orange']\n"
     ]
    }
   ],
   "source": [
    "thislist = [\"apple\", \"banana\", \"cherry\"]\n",
    "thislist.append(\"orange\")              #append (add in end)\n",
    "print(thislist)"
   ]
  },
  {
   "cell_type": "code",
   "execution_count": 149,
   "id": "c61530d9",
   "metadata": {},
   "outputs": [
    {
     "name": "stdout",
     "output_type": "stream",
     "text": [
      "['apple', 'banana', 'cherry', 'mango', 'pineapple', 'papaya']\n"
     ]
    }
   ],
   "source": [
    "thislist = [\"apple\", \"banana\", \"cherry\"]\n",
    "tropical = [\"mango\", \"pineapple\", \"papaya\"]\n",
    "thislist.extend(tropical)\n",
    "print(thislist)"
   ]
  },
  {
   "cell_type": "markdown",
   "id": "188ec268",
   "metadata": {},
   "source": [
    "# Remove"
   ]
  },
  {
   "cell_type": "code",
   "execution_count": 153,
   "id": "c8ba4e9c",
   "metadata": {},
   "outputs": [
    {
     "name": "stdout",
     "output_type": "stream",
     "text": [
      "['apple', 'cherry']\n"
     ]
    }
   ],
   "source": [
    "thislist = [\"apple\", \"banana\", \"cherry\"]\n",
    "thislist.pop(1)                      # remove using indexing\n",
    "print(thislist)"
   ]
  },
  {
   "cell_type": "code",
   "execution_count": 152,
   "id": "12f35af1",
   "metadata": {},
   "outputs": [
    {
     "name": "stdout",
     "output_type": "stream",
     "text": [
      "['banana', 'cherry']\n"
     ]
    }
   ],
   "source": [
    "thislist = [\"apple\", \"banana\", \"cherry\"]\n",
    "del thislist[0]\n",
    "print(thislist)"
   ]
  },
  {
   "cell_type": "code",
   "execution_count": 154,
   "id": "fead474f",
   "metadata": {},
   "outputs": [
    {
     "name": "stdout",
     "output_type": "stream",
     "text": [
      "[]\n"
     ]
    }
   ],
   "source": [
    "thislist = [\"apple\", \"banana\", \"cherry\"]\n",
    "thislist.clear()\n",
    "print(thislist)"
   ]
  },
  {
   "cell_type": "code",
   "execution_count": 157,
   "id": "d669bdb9",
   "metadata": {},
   "outputs": [
    {
     "name": "stdout",
     "output_type": "stream",
     "text": [
      "['pineapple', 'orange', 'mango', 'kiwi', 'banana']\n"
     ]
    }
   ],
   "source": [
    "# ordering list items\n",
    "thislist = [\"orange\", \"mango\", \"kiwi\", \"pineapple\", \"banana\"]\n",
    "thislist.sort(reverse=True)\n",
    "print(thislist)"
   ]
  },
  {
   "cell_type": "markdown",
   "id": "2fc6d810",
   "metadata": {},
   "source": [
    "# copy"
   ]
  },
  {
   "cell_type": "code",
   "execution_count": 183,
   "id": "f6439405",
   "metadata": {},
   "outputs": [
    {
     "name": "stdout",
     "output_type": "stream",
     "text": [
      "['apple', 'banana', 'cherry']\n"
     ]
    }
   ],
   "source": [
    "a = [\"apple\", \"banana\", \"cherry\"]\n",
    "print(a)"
   ]
  },
  {
   "cell_type": "code",
   "execution_count": 188,
   "id": "9c06c3a1",
   "metadata": {},
   "outputs": [],
   "source": [
    "b=a                        # 'b' changes affect 'a' also so,use copy() function"
   ]
  },
  {
   "cell_type": "code",
   "execution_count": 185,
   "id": "395c85b3",
   "metadata": {},
   "outputs": [
    {
     "name": "stdout",
     "output_type": "stream",
     "text": [
      "['apple', 'banana', 'cherry']\n"
     ]
    }
   ],
   "source": [
    "print(b)"
   ]
  },
  {
   "cell_type": "code",
   "execution_count": 186,
   "id": "1ddea4f2",
   "metadata": {},
   "outputs": [
    {
     "name": "stdout",
     "output_type": "stream",
     "text": [
      "['banana', 'cherry']\n"
     ]
    }
   ],
   "source": [
    "b.pop(0)\n",
    "print(b)         "
   ]
  },
  {
   "cell_type": "code",
   "execution_count": 187,
   "id": "aed90111",
   "metadata": {},
   "outputs": [
    {
     "data": {
      "text/plain": [
       "['banana', 'cherry']"
      ]
     },
     "execution_count": 187,
     "metadata": {},
     "output_type": "execute_result"
    }
   ],
   "source": [
    "a"
   ]
  },
  {
   "cell_type": "code",
   "execution_count": 189,
   "id": "6fce3e12",
   "metadata": {},
   "outputs": [
    {
     "name": "stdout",
     "output_type": "stream",
     "text": [
      "['apple', 'banana', 'cherry']\n"
     ]
    }
   ],
   "source": [
    "# using copy function\n",
    "\n",
    "a = [\"apple\", \"banana\", \"cherry\"]\n",
    "print(a)"
   ]
  },
  {
   "cell_type": "code",
   "execution_count": 193,
   "id": "cd1d88bd",
   "metadata": {},
   "outputs": [],
   "source": [
    "b=a.copy()                   # it won't affect 'a' variable"
   ]
  },
  {
   "cell_type": "code",
   "execution_count": 194,
   "id": "72f3a309",
   "metadata": {},
   "outputs": [
    {
     "name": "stdout",
     "output_type": "stream",
     "text": [
      "['banana', 'cherry']\n"
     ]
    }
   ],
   "source": [
    "b.pop(0)\n",
    "print(b)  "
   ]
  },
  {
   "cell_type": "code",
   "execution_count": 195,
   "id": "705bf671",
   "metadata": {},
   "outputs": [
    {
     "data": {
      "text/plain": [
       "['apple', 'banana', 'cherry']"
      ]
     },
     "execution_count": 195,
     "metadata": {},
     "output_type": "execute_result"
    }
   ],
   "source": [
    "a"
   ]
  }
 ],
 "metadata": {
  "kernelspec": {
   "display_name": "Python 3 (ipykernel)",
   "language": "python",
   "name": "python3"
  },
  "language_info": {
   "codemirror_mode": {
    "name": "ipython",
    "version": 3
   },
   "file_extension": ".py",
   "mimetype": "text/x-python",
   "name": "python",
   "nbconvert_exporter": "python",
   "pygments_lexer": "ipython3",
   "version": "3.9.10"
  },
  "vscode": {
   "interpreter": {
    "hash": "79e364102e426a5993b14eda13614382bbfcb97f7025d039ddbbe60059254eec"
   }
  }
 },
 "nbformat": 4,
 "nbformat_minor": 5
}
